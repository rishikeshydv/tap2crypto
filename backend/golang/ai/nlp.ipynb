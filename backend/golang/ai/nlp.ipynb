{
 "cells": [
  {
   "cell_type": "code",
   "execution_count": 51,
   "metadata": {},
   "outputs": [],
   "source": [
    "#scraping modules\n",
    "from bs4 import BeautifulSoup\n",
    "import requests\n",
    "\n",
    "#nlp modules\n",
    "import spacy\n",
    "import pandas as pd\n",
    "import numpy as np\n",
    "from sklearn.model_selection import train_test_split\n",
    "from sklearn.naive_bayes import MultinomialNB\n",
    "from sklearn.neighbors import KNeighborsClassifier\n",
    "from sklearn.metrics import classification_report\n",
    "from sklearn.preprocessing import MinMaxScaler\n",
    "import joblib\n"
   ]
  },
  {
   "cell_type": "code",
   "execution_count": 36,
   "metadata": {},
   "outputs": [],
   "source": [
    "content = requests.get('https://finance.yahoo.com/')\n",
    "content = content.text\n",
    "soup = BeautifulSoup(content, 'html.parser')"
   ]
  },
  {
   "cell_type": "code",
   "execution_count": 45,
   "metadata": {},
   "outputs": [
    {
     "data": {
      "text/plain": [
       "['Tesla slides after earnings fall short',\n",
       " 'Ford stock tumbles after big earnings miss',\n",
       " \"Krugman: Fed rate cut 'shouldn't matter much' in election\",\n",
       " \"'Fear gauge' hits 3-month high as stocks sell off\",\n",
       " \"Warner Bros. loses 'critical' NBA rights in $77 billion deal\",\n",
       " 'One year after it disappeared, Overstock.com is coming back']"
      ]
     },
     "execution_count": 45,
     "metadata": {},
     "output_type": "execute_result"
    }
   ],
   "source": [
    "#retrieve the information from \"hero-headlines hero-latest-news yf-13r5oof\" class of the div tag\n",
    "headlines = soup.find_all('div', class_='hero-headlines hero-second-col yf-13r5oof')\n",
    "headlines = headlines[0].find_all('h3')\n",
    "headlines = [headline.text for headline in headlines]\n",
    "headlines[1:]"
   ]
  },
  {
   "cell_type": "code",
   "execution_count": 46,
   "metadata": {},
   "outputs": [],
   "source": [
    "preprocessed_headlines = []\n",
    "nlp = spacy.load('en_core_web_sm')\n",
    "for headline in headlines[1:]:\n",
    "    doc = nlp(headline)\n",
    "    preprocessed_headline = [token.lemma_ for token in doc if not token.is_stop and not token.is_punct]\n",
    "    preprocessed_headlines.append(preprocessed_headline)"
   ]
  },
  {
   "cell_type": "code",
   "execution_count": 7,
   "metadata": {},
   "outputs": [],
   "source": [
    "df = pd.read_csv('stock_data.csv')"
   ]
  },
  {
   "cell_type": "code",
   "execution_count": 8,
   "metadata": {},
   "outputs": [
    {
     "data": {
      "text/html": [
       "<div>\n",
       "<style scoped>\n",
       "    .dataframe tbody tr th:only-of-type {\n",
       "        vertical-align: middle;\n",
       "    }\n",
       "\n",
       "    .dataframe tbody tr th {\n",
       "        vertical-align: top;\n",
       "    }\n",
       "\n",
       "    .dataframe thead th {\n",
       "        text-align: right;\n",
       "    }\n",
       "</style>\n",
       "<table border=\"1\" class=\"dataframe\">\n",
       "  <thead>\n",
       "    <tr style=\"text-align: right;\">\n",
       "      <th></th>\n",
       "      <th>Text</th>\n",
       "      <th>Sentiment</th>\n",
       "    </tr>\n",
       "  </thead>\n",
       "  <tbody>\n",
       "    <tr>\n",
       "      <th>0</th>\n",
       "      <td>Kickers on my watchlist XIDE TIT SOQ PNK CPW B...</td>\n",
       "      <td>1</td>\n",
       "    </tr>\n",
       "    <tr>\n",
       "      <th>1</th>\n",
       "      <td>user: AAP MOVIE. 55% return for the FEA/GEED i...</td>\n",
       "      <td>1</td>\n",
       "    </tr>\n",
       "    <tr>\n",
       "      <th>2</th>\n",
       "      <td>user I'd be afraid to short AMZN - they are lo...</td>\n",
       "      <td>1</td>\n",
       "    </tr>\n",
       "    <tr>\n",
       "      <th>3</th>\n",
       "      <td>MNTA Over 12.00</td>\n",
       "      <td>1</td>\n",
       "    </tr>\n",
       "    <tr>\n",
       "      <th>4</th>\n",
       "      <td>OI  Over 21.37</td>\n",
       "      <td>1</td>\n",
       "    </tr>\n",
       "  </tbody>\n",
       "</table>\n",
       "</div>"
      ],
      "text/plain": [
       "                                                Text  Sentiment\n",
       "0  Kickers on my watchlist XIDE TIT SOQ PNK CPW B...          1\n",
       "1  user: AAP MOVIE. 55% return for the FEA/GEED i...          1\n",
       "2  user I'd be afraid to short AMZN - they are lo...          1\n",
       "3                                  MNTA Over 12.00            1\n",
       "4                                   OI  Over 21.37            1"
      ]
     },
     "execution_count": 8,
     "metadata": {},
     "output_type": "execute_result"
    }
   ],
   "source": [
    "df.head()\n"
   ]
  },
  {
   "cell_type": "code",
   "execution_count": 9,
   "metadata": {},
   "outputs": [
    {
     "data": {
      "text/plain": [
       "Sentiment\n",
       " 1    3685\n",
       "-1    2106\n",
       "Name: count, dtype: int64"
      ]
     },
     "execution_count": 9,
     "metadata": {},
     "output_type": "execute_result"
    }
   ],
   "source": [
    "df.Sentiment.value_counts()"
   ]
  },
  {
   "cell_type": "code",
   "execution_count": 10,
   "metadata": {},
   "outputs": [],
   "source": [
    "#each sentiment should have at least 2106 samples with random sampling\n",
    "min_len = 2106\n",
    "negative_sentiment = df[df.Sentiment == -1]\n",
    "positive_sentiment = (df[df.Sentiment == 1]).sample(min_len, random_state=42)\n",
    "\n",
    "#combine the two dataframes\n",
    "df = pd.concat([negative_sentiment, positive_sentiment])\n",
    "#shuffle the dataframe\n",
    "df = df.sample(frac=1, random_state=2022).reset_index(drop=True)"
   ]
  },
  {
   "cell_type": "code",
   "execution_count": 11,
   "metadata": {},
   "outputs": [
    {
     "data": {
      "text/plain": [
       "Sentiment\n",
       " 1    2106\n",
       "-1    2106\n",
       "Name: count, dtype: int64"
      ]
     },
     "execution_count": 11,
     "metadata": {},
     "output_type": "execute_result"
    }
   ],
   "source": [
    "df.Sentiment.value_counts()"
   ]
  },
  {
   "cell_type": "code",
   "execution_count": 12,
   "metadata": {},
   "outputs": [],
   "source": [
    "import tensorflow as tf\n",
    "from openai import OpenAI"
   ]
  },
  {
   "cell_type": "code",
   "execution_count": 13,
   "metadata": {},
   "outputs": [],
   "source": [
    "#creating embeddings of each headline\n",
    "client = OpenAI(api_key=\"sk-None-Qjfap14kDqSsywo3VRJnT3BlbkFJBA9uwGJbjgAPRSulATXr\")\n",
    "\n",
    "def create_embedding(text):\n",
    "    response = client.embeddings.create(\n",
    "        input=text,\n",
    "        model=\"text-embedding-3-small\"\n",
    "    )\n",
    "    return response.data[0].embedding"
   ]
  },
  {
   "cell_type": "code",
   "execution_count": 14,
   "metadata": {},
   "outputs": [],
   "source": [
    "df.Text = df.Text.apply(lambda x: create_embedding(x))"
   ]
  },
  {
   "cell_type": "code",
   "execution_count": 21,
   "metadata": {},
   "outputs": [
    {
     "data": {
      "text/plain": [
       "'              precision    recall  f1-score   support\\n\\n          -1       0.76      0.70      0.73       427\\n           1       0.72      0.77      0.75       416\\n\\n    accuracy                           0.74       843\\n   macro avg       0.74      0.74      0.74       843\\nweighted avg       0.74      0.74      0.74       843\\n'"
      ]
     },
     "execution_count": 21,
     "metadata": {},
     "output_type": "execute_result"
    }
   ],
   "source": [
    "#split the data into training and testing sets\n",
    "X_train, X_test, y_train, y_test = train_test_split(df.Text, df.Sentiment, test_size=0.2, random_state=2022)\n",
    "\n",
    "X_train_2d = np.stack(X_train)\n",
    "X_test_2d = np.stack(X_test)\n",
    "\n",
    "#Multinomial Naive Bayes does not accept negative values so we need to use MinMaxScaler\n",
    "scaler = MinMaxScaler()\n",
    "scaled_X_train = scaler.fit_transform(X_train_2d)\n",
    "scaled_X_test = scaler.transform(X_test_2d)\n",
    "\n",
    "# #train the naive bayes model\n",
    "nb_model= MultinomialNB()\n",
    "nb_model.fit(scaled_X_train, y_train)\n",
    "\n",
    "# #test the model\n",
    "nb_model.score(scaled_X_test, y_test)\n",
    "\n",
    "# #predict the sentiment of the datasets\n",
    "y_pred = nb_model.predict(scaled_X_test)\n",
    "classification_report(y_test, y_pred)"
   ]
  },
  {
   "cell_type": "code",
   "execution_count": 52,
   "metadata": {},
   "outputs": [
    {
     "name": "stdout",
     "output_type": "stream",
     "text": [
      "              precision    recall  f1-score   support\n",
      "\n",
      "          -1       0.75      0.81      0.78       427\n",
      "           1       0.79      0.73      0.76       416\n",
      "\n",
      "    accuracy                           0.77       843\n",
      "   macro avg       0.77      0.77      0.77       843\n",
      "weighted avg       0.77      0.77      0.77       843\n",
      "\n"
     ]
    }
   ],
   "source": [
    "#train using the KNN model\n",
    "knnModel = KNeighborsClassifier(n_neighbors=5, metric='euclidean')\n",
    "knnModel.fit(X_train_2d, y_train)\n",
    "y_pred_2 = knnModel.predict(X_test_2d)\n",
    "knnModel.score(X_test_2d, y_test)\n",
    "print(classification_report(y_test, y_pred_2))"
   ]
  },
  {
   "cell_type": "code",
   "execution_count": 55,
   "metadata": {},
   "outputs": [
    {
     "data": {
      "text/plain": [
       "['nb_model.pkl']"
      ]
     },
     "execution_count": 55,
     "metadata": {},
     "output_type": "execute_result"
    }
   ],
   "source": [
    "#save the model\n",
    "joblib.dump(nb_model, 'nb_model.pkl')\n",
    "joblib.dump(knnModel, 'knn_model.pkl')"
   ]
  },
  {
   "cell_type": "code",
   "execution_count": 54,
   "metadata": {},
   "outputs": [
    {
     "data": {
      "text/plain": [
       "array([[ 0.00072856, -0.06871434, -0.04320753, ...,  0.03365227,\n",
       "        -0.00196457,  0.01583406],\n",
       "       [-0.0265568 , -0.05101701,  0.02133052, ...,  0.02090512,\n",
       "        -0.00299296,  0.02222688],\n",
       "       [-0.04785164,  0.0178241 ,  0.0280527 , ..., -0.00452249,\n",
       "         0.01070332, -0.01771017],\n",
       "       [-0.01129631, -0.01783906, -0.00475356, ...,  0.00327633,\n",
       "         0.02389986, -0.00778396],\n",
       "       [-0.01143675,  0.0047288 ,  0.00331243, ..., -0.00981264,\n",
       "        -0.01178423,  0.01755549],\n",
       "       [-0.01705313, -0.03579557,  0.00813337, ..., -0.02260159,\n",
       "        -0.00324388,  0.02308217]])"
      ]
     },
     "execution_count": 54,
     "metadata": {},
     "output_type": "execute_result"
    }
   ],
   "source": [
    "#predict the sentiment of the headlines\n",
    "preprocessed_headlines = [create_embedding(headline) for headline in preprocessed_headlines]\n",
    "preprocessed_headlines = np.stack(preprocessed_headlines)\n",
    "preprocessed_headlines"
   ]
  },
  {
   "cell_type": "code",
   "execution_count": 58,
   "metadata": {},
   "outputs": [
    {
     "data": {
      "text/plain": [
       "array([ 1,  1, -1, -1,  1,  1])"
      ]
     },
     "execution_count": 58,
     "metadata": {},
     "output_type": "execute_result"
    }
   ],
   "source": [
    "#below is a dictionary that maps entity names to their respective sentiment\n",
    "loaded_nb_model = joblib.load('nb_model.pkl')\n",
    "predictions_nb = loaded_nb_model.predict(preprocessed_headlines)\n",
    "predictions_nb"
   ]
  },
  {
   "cell_type": "code",
   "execution_count": 59,
   "metadata": {},
   "outputs": [
    {
     "data": {
      "text/plain": [
       "array([ 1,  1, -1, -1,  1,  1])"
      ]
     },
     "execution_count": 59,
     "metadata": {},
     "output_type": "execute_result"
    }
   ],
   "source": [
    "loaded_knn_model = joblib.load('knn_model.pkl')\n",
    "predictions_knn = loaded_nb_model.predict(preprocessed_headlines)\n",
    "predictions_knn"
   ]
  },
  {
   "cell_type": "code",
   "execution_count": 60,
   "metadata": {},
   "outputs": [
    {
     "data": {
      "text/plain": [
       "{'Tesla': 1,\n",
       " 'Ford': 1,\n",
       " 'Krugman': -1,\n",
       " 'Fed': -1,\n",
       " '3-month': -1,\n",
       " 'Warner Bros.': 1,\n",
       " 'NBA': 1,\n",
       " '$77 billion': 1,\n",
       " 'One year': 1,\n",
       " 'Overstock.com': 1}"
      ]
     },
     "execution_count": 60,
     "metadata": {},
     "output_type": "execute_result"
    }
   ],
   "source": [
    "#knn accuracy is higher than the naive bayes model\n",
    "knn_res = {}\n",
    "for i, headline in enumerate(headlines[1:]):\n",
    "    doc = nlp(headline)\n",
    "    for ent in doc.ents:\n",
    "        knn_res[ent.text] = predictions_knn[i]\n",
    "knn_res"
   ]
  },
  {
   "cell_type": "code",
   "execution_count": 72,
   "metadata": {},
   "outputs": [],
   "source": [
    "#matching the return values with the actual companies\n",
    "df_sp500 = pd.read_csv('sp500.csv')\n",
    "df_sp500.head()\n",
    "#using only Symbol and Security\n",
    "df_sp500 = df_sp500[['Symbol', 'Security']]\n",
    "df_sp500.head()\n",
    "df_sp500.dropna(inplace=True)"
   ]
  },
  {
   "cell_type": "code",
   "execution_count": 73,
   "metadata": {},
   "outputs": [],
   "source": [
    "#mapping the entities to the actual companies\n",
    "new_knn_res = {}\n",
    "for entity, sentiment in knn_res.items():\n",
    "    for i, row in df_sp500.iterrows():\n",
    "        if entity in row.Security:\n",
    "            new_knn_res[row.Symbol] = sentiment"
   ]
  },
  {
   "cell_type": "code",
   "execution_count": 74,
   "metadata": {},
   "outputs": [
    {
     "data": {
      "text/plain": [
       "{'TSLA': 1, 'F': 1, 'FRT': -1, 'FDX': -1, 'WBD': 1}"
      ]
     },
     "execution_count": 74,
     "metadata": {},
     "output_type": "execute_result"
    }
   ],
   "source": [
    "new_knn_res"
   ]
  }
 ],
 "metadata": {
  "kernelspec": {
   "display_name": "Python 3",
   "language": "python",
   "name": "python3"
  },
  "language_info": {
   "codemirror_mode": {
    "name": "ipython",
    "version": 3
   },
   "file_extension": ".py",
   "mimetype": "text/x-python",
   "name": "python",
   "nbconvert_exporter": "python",
   "pygments_lexer": "ipython3",
   "version": "3.12.4"
  }
 },
 "nbformat": 4,
 "nbformat_minor": 2
}
