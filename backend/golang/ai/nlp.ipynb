{
 "cells": [
  {
   "cell_type": "code",
   "execution_count": 84,
   "metadata": {},
   "outputs": [],
   "source": [
    "#scraping modules\n",
    "from bs4 import BeautifulSoup\n",
    "import requests\n",
    "\n",
    "#nlp modules\n",
    "import spacy\n",
    "import pandas as pd\n",
    "import numpy as np\n",
    "from sklearn.model_selection import train_test_split\n",
    "from sklearn.naive_bayes import MultinomialNB\n",
    "from sklearn.neighbors import KNeighborsClassifier\n",
    "from sklearn.metrics import classification_report\n",
    "from sklearn.preprocessing import MinMaxScaler\n"
   ]
  },
  {
   "cell_type": "code",
   "execution_count": 10,
   "metadata": {},
   "outputs": [],
   "source": [
    "content = requests.get('https://finance.yahoo.com/')\n",
    "content = content.text\n",
    "soup = BeautifulSoup(content, 'html.parser')"
   ]
  },
  {
   "cell_type": "code",
   "execution_count": 16,
   "metadata": {},
   "outputs": [
    {
     "data": {
      "text/plain": [
       "['Alphabet’s Revenue Boosted by Cloud Computing, Search Ads',\n",
       " \"FTC orders 8 companies to provide information on 'surveillance pricing' practices\",\n",
       " 'Aussie Risks Bigger Losses Versus Yen as CPI Coincides With BOJ',\n",
       " 'Canadian Wildfires Threaten Oil Output, Prompt Evacuations',\n",
       " 'Tech Falls in Late Hours as Earnings Underwhelm: Markets Wrap',\n",
       " 'Boeing resumes deliveries of 737 MAX airplanes to China',\n",
       " 'Embraer bumps up estimate for global traffic growth in next two decades',\n",
       " 'How a perfect storm sent church insurance rates skyrocketing']"
      ]
     },
     "execution_count": 16,
     "metadata": {},
     "output_type": "execute_result"
    }
   ],
   "source": [
    "#retrieve the information from \"hero-headlines hero-latest-news yf-13r5oof\" class of the div tag\n",
    "headlines = soup.find_all('div', class_='hero-headlines hero-latest-news yf-13r5oof')\n",
    "headlines = headlines[0].find_all('h3')\n",
    "headlines = [headline.text for headline in headlines]\n",
    "headlines[1:]"
   ]
  },
  {
   "cell_type": "code",
   "execution_count": 104,
   "metadata": {},
   "outputs": [],
   "source": [
    "preprocessed_headlines = []\n",
    "nlp = spacy.load('en_core_web_sm')\n",
    "for headline in headlines[1:]:\n",
    "    doc = nlp(headline)\n",
    "    preprocessed_headline = [token.lemma_ for token in doc if not token.is_stop and not token.is_punct]\n",
    "    preprocessed_headlines.append(preprocessed_headline)"
   ]
  },
  {
   "cell_type": "code",
   "execution_count": 44,
   "metadata": {},
   "outputs": [],
   "source": [
    "df = pd.read_csv('stock_data.csv')"
   ]
  },
  {
   "cell_type": "code",
   "execution_count": 23,
   "metadata": {},
   "outputs": [
    {
     "data": {
      "text/html": [
       "<div>\n",
       "<style scoped>\n",
       "    .dataframe tbody tr th:only-of-type {\n",
       "        vertical-align: middle;\n",
       "    }\n",
       "\n",
       "    .dataframe tbody tr th {\n",
       "        vertical-align: top;\n",
       "    }\n",
       "\n",
       "    .dataframe thead th {\n",
       "        text-align: right;\n",
       "    }\n",
       "</style>\n",
       "<table border=\"1\" class=\"dataframe\">\n",
       "  <thead>\n",
       "    <tr style=\"text-align: right;\">\n",
       "      <th></th>\n",
       "      <th>Text</th>\n",
       "      <th>Sentiment</th>\n",
       "    </tr>\n",
       "  </thead>\n",
       "  <tbody>\n",
       "    <tr>\n",
       "      <th>0</th>\n",
       "      <td>Kickers on my watchlist XIDE TIT SOQ PNK CPW B...</td>\n",
       "      <td>1</td>\n",
       "    </tr>\n",
       "    <tr>\n",
       "      <th>1</th>\n",
       "      <td>user: AAP MOVIE. 55% return for the FEA/GEED i...</td>\n",
       "      <td>1</td>\n",
       "    </tr>\n",
       "    <tr>\n",
       "      <th>2</th>\n",
       "      <td>user I'd be afraid to short AMZN - they are lo...</td>\n",
       "      <td>1</td>\n",
       "    </tr>\n",
       "    <tr>\n",
       "      <th>3</th>\n",
       "      <td>MNTA Over 12.00</td>\n",
       "      <td>1</td>\n",
       "    </tr>\n",
       "    <tr>\n",
       "      <th>4</th>\n",
       "      <td>OI  Over 21.37</td>\n",
       "      <td>1</td>\n",
       "    </tr>\n",
       "  </tbody>\n",
       "</table>\n",
       "</div>"
      ],
      "text/plain": [
       "                                                Text  Sentiment\n",
       "0  Kickers on my watchlist XIDE TIT SOQ PNK CPW B...          1\n",
       "1  user: AAP MOVIE. 55% return for the FEA/GEED i...          1\n",
       "2  user I'd be afraid to short AMZN - they are lo...          1\n",
       "3                                  MNTA Over 12.00            1\n",
       "4                                   OI  Over 21.37            1"
      ]
     },
     "execution_count": 23,
     "metadata": {},
     "output_type": "execute_result"
    }
   ],
   "source": [
    "df.head()\n"
   ]
  },
  {
   "cell_type": "code",
   "execution_count": 45,
   "metadata": {},
   "outputs": [
    {
     "data": {
      "text/plain": [
       "Sentiment\n",
       " 1    3685\n",
       "-1    2106\n",
       "Name: count, dtype: int64"
      ]
     },
     "execution_count": 45,
     "metadata": {},
     "output_type": "execute_result"
    }
   ],
   "source": [
    "df.Sentiment.value_counts()"
   ]
  },
  {
   "cell_type": "code",
   "execution_count": 46,
   "metadata": {},
   "outputs": [],
   "source": [
    "#each sentiment should have at least 2106 samples with random sampling\n",
    "min_len = 2106\n",
    "negative_sentiment = df[df.Sentiment == -1]\n",
    "positive_sentiment = (df[df.Sentiment == 1]).sample(min_len, random_state=42)\n",
    "\n",
    "#combine the two dataframes\n",
    "df = pd.concat([negative_sentiment, positive_sentiment])\n",
    "#shuffle the dataframe\n",
    "df = df.sample(frac=1, random_state=2022).reset_index(drop=True)"
   ]
  },
  {
   "cell_type": "code",
   "execution_count": 47,
   "metadata": {},
   "outputs": [
    {
     "data": {
      "text/plain": [
       "Sentiment\n",
       " 1    2106\n",
       "-1    2106\n",
       "Name: count, dtype: int64"
      ]
     },
     "execution_count": 47,
     "metadata": {},
     "output_type": "execute_result"
    }
   ],
   "source": [
    "df.Sentiment.value_counts()"
   ]
  },
  {
   "cell_type": "code",
   "execution_count": 48,
   "metadata": {},
   "outputs": [],
   "source": [
    "import tensorflow as tf\n",
    "from openai import OpenAI"
   ]
  },
  {
   "cell_type": "code",
   "execution_count": 49,
   "metadata": {},
   "outputs": [],
   "source": [
    "#creating embeddings of each headline\n",
    "client = OpenAI(api_key=\"sk-None-Qjfap14kDqSsywo3VRJnT3BlbkFJBA9uwGJbjgAPRSulATXr\")\n",
    "\n",
    "def create_embedding(text):\n",
    "    response = client.embeddings.create(\n",
    "        input=text,\n",
    "        model=\"text-embedding-3-small\"\n",
    "    )\n",
    "    return response.data[0].embedding"
   ]
  },
  {
   "cell_type": "code",
   "execution_count": 50,
   "metadata": {},
   "outputs": [],
   "source": [
    "df.Text = df.Text.apply(lambda x: create_embedding(x))"
   ]
  },
  {
   "cell_type": "code",
   "execution_count": 101,
   "metadata": {},
   "outputs": [
    {
     "data": {
      "text/plain": [
       "'              precision    recall  f1-score   support\\n\\n          -1       0.76      0.70      0.73       427\\n           1       0.72      0.77      0.75       416\\n\\n    accuracy                           0.74       843\\n   macro avg       0.74      0.74      0.74       843\\nweighted avg       0.74      0.74      0.74       843\\n'"
      ]
     },
     "execution_count": 101,
     "metadata": {},
     "output_type": "execute_result"
    }
   ],
   "source": [
    "#split the data into training and testing sets\n",
    "X_train, X_test, y_train, y_test = train_test_split(df.Text, df.Sentiment, test_size=0.2, random_state=2022)\n",
    "\n",
    "X_train_2d = np.stack(X_train)\n",
    "X_test_2d = np.stack(X_test)\n",
    "\n",
    "#Multinomial Naive Bayes does not accept negative values so we need to use MinMaxScaler\n",
    "scaler = MinMaxScaler()\n",
    "scaled_X_train = scaler.fit_transform(X_train_2d)\n",
    "scaled_X_test = scaler.transform(X_test_2d)\n",
    "\n",
    "# #train the naive bayes model\n",
    "nb_model= MultinomialNB()\n",
    "nb_model.fit(scaled_X_train, y_train)\n",
    "\n",
    "# #test the model\n",
    "nb_model.score(scaled_X_test, y_test)\n",
    "\n",
    "# #predict the sentiment of the datasets\n",
    "y_pred = nb_model.predict(scaled_X_test)\n",
    "classification_report(y_test, y_pred)"
   ]
  },
  {
   "cell_type": "code",
   "execution_count": 102,
   "metadata": {},
   "outputs": [
    {
     "name": "stdout",
     "output_type": "stream",
     "text": [
      "              precision    recall  f1-score   support\n",
      "\n",
      "          -1       0.75      0.81      0.78       427\n",
      "           1       0.79      0.73      0.76       416\n",
      "\n",
      "    accuracy                           0.77       843\n",
      "   macro avg       0.77      0.77      0.77       843\n",
      "weighted avg       0.77      0.77      0.77       843\n",
      "\n"
     ]
    }
   ],
   "source": [
    "#train using the KNN model\n",
    "knnModel = KNeighborsClassifier(n_neighbors=5, metric='euclidean')\n",
    "knnModel.fit(X_train_2d, y_train)\n",
    "y_pred_2 = knnModel.predict(X_test_2d)\n",
    "knnModel.score(X_test_2d, y_test)\n",
    "print(classification_report(y_test, y_pred_2))"
   ]
  },
  {
   "cell_type": "code",
   "execution_count": 105,
   "metadata": {},
   "outputs": [
    {
     "data": {
      "text/plain": [
       "array([[ 0.03979261, -0.02636505,  0.02917938, ...,  0.00992715,\n",
       "        -0.02437682, -0.00392045],\n",
       "       [-0.02019515, -0.02305547, -0.02824178, ..., -0.00375418,\n",
       "        -0.01577107,  0.01867069],\n",
       "       [-0.03196119, -0.00024379, -0.02240189, ..., -0.01452055,\n",
       "        -0.01435348, -0.00330689],\n",
       "       ...,\n",
       "       [ 0.0017534 , -0.02372099,  0.03179681, ...,  0.02396017,\n",
       "         0.02556407,  0.00353669],\n",
       "       [-0.01323737, -0.02190926, -0.01689742, ..., -0.00143787,\n",
       "        -0.00065477, -0.01119056],\n",
       "       [ 0.01855049, -0.01775123, -0.02129632, ..., -0.00076421,\n",
       "        -0.00555612, -0.00355798]])"
      ]
     },
     "execution_count": 105,
     "metadata": {},
     "output_type": "execute_result"
    }
   ],
   "source": [
    "#predict the sentiment of the headlines\n",
    "preprocessed_headlines = [create_embedding(headline) for headline in preprocessed_headlines]\n",
    "preprocessed_headlines = np.stack(preprocessed_headlines)\n",
    "preprocessed_headlines"
   ]
  },
  {
   "cell_type": "code",
   "execution_count": 112,
   "metadata": {},
   "outputs": [
    {
     "data": {
      "text/plain": [
       "array([1, 1, 1, 1, 1, 1, 1, 1])"
      ]
     },
     "execution_count": 112,
     "metadata": {},
     "output_type": "execute_result"
    }
   ],
   "source": [
    "#below is a dictionary that maps entity names to their respective sentiment\n",
    "predictions_nb = nb_model.predict(preprocessed_headlines)\n",
    "predictions_nb"
   ]
  },
  {
   "cell_type": "code",
   "execution_count": 113,
   "metadata": {},
   "outputs": [
    {
     "data": {
      "text/plain": [
       "array([-1, -1, -1,  1,  1, -1,  1,  1])"
      ]
     },
     "execution_count": 113,
     "metadata": {},
     "output_type": "execute_result"
    }
   ],
   "source": [
    "predictions_knn = knnModel.predict(preprocessed_headlines)\n",
    "predictions_knn"
   ]
  },
  {
   "cell_type": "code",
   "execution_count": 114,
   "metadata": {},
   "outputs": [
    {
     "data": {
      "text/plain": [
       "{'Alphabet': -1,\n",
       " 'Cloud Computing': -1,\n",
       " 'FTC': -1,\n",
       " '8': -1,\n",
       " 'Aussie Risks Bigger Losses Versus Yen': -1,\n",
       " 'BOJ': -1,\n",
       " 'Canadian': 1,\n",
       " 'Evacuations': 1,\n",
       " 'Tech Falls': 1,\n",
       " 'Late Hours': 1,\n",
       " 'Boeing': -1,\n",
       " '737': -1,\n",
       " 'MAX': -1,\n",
       " 'China': -1,\n",
       " 'next two decades': 1}"
      ]
     },
     "execution_count": 114,
     "metadata": {},
     "output_type": "execute_result"
    }
   ],
   "source": [
    "#knn accuracy is higher than the naive bayes model\n",
    "knn_res = {}\n",
    "for i, headline in enumerate(headlines[1:]):\n",
    "    doc = nlp(headline)\n",
    "    for ent in doc.ents:\n",
    "        knn_res[ent.text] = predictions_knn[i]\n",
    "knn_res"
   ]
  }
 ],
 "metadata": {
  "kernelspec": {
   "display_name": "Python 3",
   "language": "python",
   "name": "python3"
  },
  "language_info": {
   "codemirror_mode": {
    "name": "ipython",
    "version": 3
   },
   "file_extension": ".py",
   "mimetype": "text/x-python",
   "name": "python",
   "nbconvert_exporter": "python",
   "pygments_lexer": "ipython3",
   "version": "3.12.4"
  }
 },
 "nbformat": 4,
 "nbformat_minor": 2
}
